{
 "cells": [
  {
   "cell_type": "markdown",
   "id": "42a18384-28d6-43f5-88bc-4f09256109e3",
   "metadata": {},
   "source": [
    "## Exercise : Exploring Matplotlib and Linear Regression"
   ]
  },
  {
   "cell_type": "markdown",
   "id": "5e967453-ebc9-4f5d-b741-51f90a0df1fd",
   "metadata": {},
   "source": [
    "**Exercise 6 : Exploring Matplotlib and Linear Regression"
   ]
  },
  {
   "cell_type": "markdown",
   "id": "c3f9774b-dbf2-41f3-8ddb-97f2cc84dcc5",
   "metadata": {},
   "source": [
    "** Create a Scatter plot for the fields (weight and miles per gallon) from the data set mtcars.csv  \n",
    "1.1 make the dots ‘green’  \n",
    "1.2 Label the graph “Car weight vs miles per gallon”  \n",
    "1.3 Add x and y axis labels  \n",
    "1.4 Create a Horizontal span between 12.5 and 25 mpg  \n",
    "1.5 Create a Vertical span between 4.0 and 5.0 tons (Car Weight)  "
   ]
  },
  {
   "cell_type": "code",
   "execution_count": 20,
   "id": "f400c3d0-8054-4cae-a189-04550e09c8d3",
   "metadata": {},
   "outputs": [],
   "source": [
    "# Import libraries\n",
    "import os, csv\n",
    "import math\n",
    "import pandas as pd\n",
    "import numpy as np\n",
    "import matplotlib.pyplot as plt\n",
    "import sklearn\n",
    "from sklearn.linear_model import LinearRegression\n",
    "\n",
    "%matplotlib inline"
   ]
  },
  {
   "cell_type": "code",
   "execution_count": 24,
   "id": "50e30be3-6c2f-4051-8d75-8490a40bc6b2",
   "metadata": {},
   "outputs": [],
   "source": [
    "path = os.getcwd() \n",
    "sourcepath = path + '\\\\sourcedata\\\\'\n",
    "filename = 'mtcars.csv'\n",
    "csvfile = os.path.join(sourcepath, filename)\n",
    "#print(path)\n",
    "#print(csvfile)"
   ]
  },
  {
   "cell_type": "code",
   "execution_count": 26,
   "id": "907f311d-3969-449f-9e7e-4becbd957d5d",
   "metadata": {},
   "outputs": [
    {
     "name": "stdout",
     "output_type": "stream",
     "text": [
      "Path exists\n",
      "File exists\n"
     ]
    }
   ],
   "source": [
    "if not path == '' and path:\n",
    "    print('Path exists')\n",
    "    if os.path.isfile(csvfile):\n",
    "        print('File exists')\n",
    "    else:\n",
    "        print('Cannot find file')\n",
    "else:\n",
    "    print('File directory Path cannot be read')"
   ]
  },
  {
   "cell_type": "code",
   "execution_count": 28,
   "id": "2bf73612-1a9c-4bbb-9634-96e9e3dd4050",
   "metadata": {},
   "outputs": [],
   "source": [
    "cars = []\n",
    "\n",
    "fh = open (csvfile, mode='r')\n",
    "#for line in fh:\n",
    "#    print(line, end='')\n",
    "filereader = csv.reader(fh)\n",
    "next(filereader, 'None')\n",
    "\n",
    "for rec in filereader:\n",
    "    model, mpg, cyl, disp, hp, drat, wt, qsec, vs, am, gear, carb = rec\n",
    "    cars_tuple= (model, mpg, cyl, disp, hp, drat, wt, qsec, vs, am, gear, carb)\n",
    "    cars.append(cars_tuple)\n",
    "fh.close()\n",
    "#print(cars)"
   ]
  },
  {
   "cell_type": "code",
   "execution_count": 30,
   "id": "0279821a-b778-49a6-874d-0c5808953722",
   "metadata": {},
   "outputs": [
    {
     "data": {
      "text/html": [
       "<div>\n",
       "<style scoped>\n",
       "    .dataframe tbody tr th:only-of-type {\n",
       "        vertical-align: middle;\n",
       "    }\n",
       "\n",
       "    .dataframe tbody tr th {\n",
       "        vertical-align: top;\n",
       "    }\n",
       "\n",
       "    .dataframe thead th {\n",
       "        text-align: right;\n",
       "    }\n",
       "</style>\n",
       "<table border=\"1\" class=\"dataframe\">\n",
       "  <thead>\n",
       "    <tr style=\"text-align: right;\">\n",
       "      <th></th>\n",
       "      <th>model</th>\n",
       "      <th>mpg</th>\n",
       "      <th>cyl</th>\n",
       "      <th>disp</th>\n",
       "      <th>hp</th>\n",
       "      <th>drat</th>\n",
       "      <th>wt</th>\n",
       "      <th>qsec</th>\n",
       "      <th>vs</th>\n",
       "      <th>am</th>\n",
       "      <th>gear</th>\n",
       "      <th>carb</th>\n",
       "    </tr>\n",
       "  </thead>\n",
       "  <tbody>\n",
       "    <tr>\n",
       "      <th>0</th>\n",
       "      <td>Mazda RX4</td>\n",
       "      <td>21.0</td>\n",
       "      <td>6</td>\n",
       "      <td>160.0</td>\n",
       "      <td>110</td>\n",
       "      <td>3.90</td>\n",
       "      <td>2.620</td>\n",
       "      <td>16.46</td>\n",
       "      <td>0</td>\n",
       "      <td>1</td>\n",
       "      <td>4</td>\n",
       "      <td>4</td>\n",
       "    </tr>\n",
       "    <tr>\n",
       "      <th>1</th>\n",
       "      <td>Mazda RX4 Wag</td>\n",
       "      <td>21.0</td>\n",
       "      <td>6</td>\n",
       "      <td>160.0</td>\n",
       "      <td>110</td>\n",
       "      <td>3.90</td>\n",
       "      <td>2.875</td>\n",
       "      <td>17.02</td>\n",
       "      <td>0</td>\n",
       "      <td>1</td>\n",
       "      <td>4</td>\n",
       "      <td>4</td>\n",
       "    </tr>\n",
       "    <tr>\n",
       "      <th>2</th>\n",
       "      <td>Datsun 710</td>\n",
       "      <td>22.8</td>\n",
       "      <td>4</td>\n",
       "      <td>108.0</td>\n",
       "      <td>93</td>\n",
       "      <td>3.85</td>\n",
       "      <td>2.320</td>\n",
       "      <td>18.61</td>\n",
       "      <td>1</td>\n",
       "      <td>1</td>\n",
       "      <td>4</td>\n",
       "      <td>1</td>\n",
       "    </tr>\n",
       "    <tr>\n",
       "      <th>3</th>\n",
       "      <td>Hornet 4 Drive</td>\n",
       "      <td>21.4</td>\n",
       "      <td>6</td>\n",
       "      <td>258.0</td>\n",
       "      <td>110</td>\n",
       "      <td>3.08</td>\n",
       "      <td>3.215</td>\n",
       "      <td>19.44</td>\n",
       "      <td>1</td>\n",
       "      <td>0</td>\n",
       "      <td>3</td>\n",
       "      <td>1</td>\n",
       "    </tr>\n",
       "    <tr>\n",
       "      <th>4</th>\n",
       "      <td>Hornet Sportabout</td>\n",
       "      <td>18.7</td>\n",
       "      <td>8</td>\n",
       "      <td>360.0</td>\n",
       "      <td>175</td>\n",
       "      <td>3.15</td>\n",
       "      <td>3.440</td>\n",
       "      <td>17.02</td>\n",
       "      <td>0</td>\n",
       "      <td>0</td>\n",
       "      <td>3</td>\n",
       "      <td>2</td>\n",
       "    </tr>\n",
       "  </tbody>\n",
       "</table>\n",
       "</div>"
      ],
      "text/plain": [
       "               model   mpg  cyl   disp   hp  drat     wt   qsec  vs  am  gear  \\\n",
       "0          Mazda RX4  21.0    6  160.0  110  3.90  2.620  16.46   0   1     4   \n",
       "1      Mazda RX4 Wag  21.0    6  160.0  110  3.90  2.875  17.02   0   1     4   \n",
       "2         Datsun 710  22.8    4  108.0   93  3.85  2.320  18.61   1   1     4   \n",
       "3     Hornet 4 Drive  21.4    6  258.0  110  3.08  3.215  19.44   1   0     3   \n",
       "4  Hornet Sportabout  18.7    8  360.0  175  3.15  3.440  17.02   0   0     3   \n",
       "\n",
       "   carb  \n",
       "0     4  \n",
       "1     4  \n",
       "2     1  \n",
       "3     1  \n",
       "4     2  "
      ]
     },
     "execution_count": 30,
     "metadata": {},
     "output_type": "execute_result"
    }
   ],
   "source": [
    "# Load the cars list into pandas dataframe\n",
    "df_car = pd.DataFrame(cars, columns=['model', 'mpg', 'cyl', 'disp', 'hp', 'drat', 'wt', 'qsec', 'vs', 'am', 'gear', 'carb'])\n",
    "\n",
    "df_car['mpg'] = df_car['mpg'].astype(float)\n",
    "df_car['cyl'] = df_car['cyl'].astype('int64')\n",
    "df_car['disp']= df_car['disp'].astype(float)\n",
    "df_car['hp']  = df_car['hp'].astype('int64')\n",
    "df_car[['drat','wt','qsec']] = df_car[['drat','wt','qsec']].astype(float)\n",
    "df_car[['vs','am','gear','carb']] = df_car[['vs','am','gear','carb']].astype('int64')\n",
    "\n",
    "df_car.head()\n",
    "#df_car.info()\n",
    "#print(df_car.dtypes)"
   ]
  },
  {
   "cell_type": "code",
   "execution_count": 32,
   "id": "fb55d7bb-23f7-4b5b-8fe6-1a7dc8ed22fe",
   "metadata": {},
   "outputs": [
    {
     "name": "stdout",
     "output_type": "stream",
     "text": [
      "              wt        mpg\n",
      "count  32.000000  32.000000\n",
      "mean    3.217250  20.090625\n",
      "std     0.978457   6.026948\n",
      "min     1.513000  10.400000\n",
      "25%     2.581250  15.425000\n",
      "50%     3.325000  19.200000\n",
      "75%     3.610000  22.800000\n",
      "max     5.424000  33.900000\n"
     ]
    }
   ],
   "source": [
    "# Extract descriptive statistics for numerical variables\n",
    "descriptive_stats = df_car[['wt','mpg']].describe()\n",
    "print(descriptive_stats)\n",
    "xmin = math.floor(float(df_car['wt'].agg('min')))\n",
    "xmax = math.ceil(float(df_car['wt'].agg('max')))\n",
    "ymin = 0 # start axis at zero\n",
    "ymax = math.ceil(float(df_car['mpg'].agg('max')))\n",
    "#print('Limits: ',xmin,xmax,ymin,ymax)"
   ]
  },
  {
   "cell_type": "code",
   "execution_count": 34,
   "id": "12d3f06c-6ff3-4b9b-b454-3a17c0af4958",
   "metadata": {},
   "outputs": [
    {
     "name": "stdout",
     "output_type": "stream",
     "text": [
      "[[2.62 ]\n",
      " [2.875]\n",
      " [2.32 ]\n",
      " [3.215]\n",
      " [3.44 ]\n",
      " [3.46 ]\n",
      " [3.57 ]\n",
      " [3.19 ]\n",
      " [3.15 ]\n",
      " [3.44 ]\n",
      " [3.44 ]\n",
      " [4.07 ]\n",
      " [3.73 ]\n",
      " [3.78 ]\n",
      " [5.25 ]\n",
      " [5.424]\n",
      " [5.345]\n",
      " [2.2  ]\n",
      " [1.615]\n",
      " [1.835]\n",
      " [2.465]\n",
      " [3.52 ]\n",
      " [3.435]\n",
      " [3.84 ]\n",
      " [3.845]\n",
      " [1.935]\n",
      " [2.14 ]\n",
      " [1.513]\n",
      " [3.17 ]\n",
      " [2.77 ]\n",
      " [3.57 ]\n",
      " [2.78 ]] [21.  21.  22.8 21.4 18.7 18.1 14.3 24.4 22.8 19.2 17.8 16.4 17.3 15.2\n",
      " 10.4 10.4 14.7 32.4 30.4 33.9 21.5 15.5 15.2 13.3 19.2 27.3 26.  30.4\n",
      " 15.8 19.7 15.  21.4]\n"
     ]
    }
   ],
   "source": [
    "# The independent values need to be in a 2-dimensional array\n",
    "x_values = df_car['wt'].values[:,np.newaxis] #adding a dimension\n",
    "y_values = df_car['mpg'].values\n",
    "print(x_values,y_values)\n",
    "\n",
    "model = LinearRegression()\n",
    "model.fit(x_values, y_values)\n",
    "score = model.score(x_values, y_values)  #Returns the coefficient of determination R^2 of the prediction.\n"
   ]
  },
  {
   "cell_type": "markdown",
   "id": "d4cdff76-4883-40a4-9834-40e8b6eadadd",
   "metadata": {},
   "source": [
    "** 2. Plot a linear regression function (the best fitting line) for the variables (Weight) and (mpg).\n",
    "* Predict the mpg for vehicules of the following weights:\n",
    "* Weights : 2.5, 3.5 and 4.5 tons (vertical and horizontal lines used to specify the predicted values on the LR line).\n",
    "* Add an annotation for the predicted value corresponding to the 4.5 tons weight."
   ]
  },
  {
   "cell_type": "code",
   "execution_count": 37,
   "id": "1962c17c-630f-4ebf-bad2-7eab6d7ad22a",
   "metadata": {},
   "outputs": [
    {
     "data": {
      "image/png": "[encoded data removed]",
      "text/plain": [
       "<Figure size 640x480 with 1 Axes>"
      ]
     },
     "metadata": {},
     "output_type": "display_data"
    }
   ],
   "source": [
    "# Command to find the styles available:\n",
    "# plt.style.available\n",
    "\n",
    "plt.style.use('classic')\n",
    "plt.title(\"Car Weight vs Miles per Gallon\")\n",
    "plt.xlabel(\"weight (tons)\")\n",
    "plt.ylabel(\"mpg\")\n",
    "\n",
    "# Setting the axis range\n",
    "#plt.xlim(xmin, xmax)\n",
    "#plt.ylim(ymin, ymax)\n",
    "\n",
    "plt.axis([xmin,xmax,ymin,ymax])\n",
    "plt.scatter(x_values,y_values, color='blue')     #color blue\n",
    "plt.plot(x_values,model.predict(x_values), color='#000000') #color black\n",
    "\n",
    "#Horizontal and vertical span\n",
    "plt.axhspan(12.5,25, alpha=0.5, color='#add8e6') #color light blue\n",
    "plt.axvspan(4.0,5.0, alpha=0.4, color='yellow')\n",
    "\n",
    "plt.axvline(x=2.5,color='grey')\n",
    "x_predict = np.array([2.5]).reshape(-1, 1)\n",
    "plt.axhline(y=model.predict(x_predict), color='orange')\n",
    "plt.axvline(x=3.5,color='grey')\n",
    "x_predict = np.array([3.5]).reshape(-1, 1)\n",
    "plt.axhline(y=model.predict(x_predict), color='orange')\n",
    "plt.axvline(x=4.5,color='grey')\n",
    "x_predict = np.array([4.5]).reshape(-1, 1)\n",
    "plt.axhline(y=model.predict(x_predict), color='orange')\n",
    "\n",
    "annotated_txt = 'Predicted Value ({:.2f})'.format(model.predict(x_predict)[0])\n",
    "plt.annotate(annotated_txt, xy=(4.5,model.predict(x_predict)), xytext=(4.65,22), arrowprops={'color':'r','width':1.0})\n",
    "\n",
    "plt.show()\n",
    "\n"
   ]
  },
  {
   "cell_type": "code",
   "execution_count": null,
   "id": "5eb7b541-40b6-4b8a-ba44-81d54fac236b",
   "metadata": {},
   "outputs": [],
   "source": []
  }
 ],
 "metadata": {
  "kernelspec": {
   "display_name": "Python 3 (ipykernel)",
   "language": "python",
   "name": "python3"
  },
  "language_info": {
   "codemirror_mode": {
    "name": "ipython",
    "version": 3
   },
   "file_extension": ".py",
   "mimetype": "text/x-python",
   "name": "python",
   "nbconvert_exporter": "python",
   "pygments_lexer": "ipython3",
   "version": "3.12.7"
  }
 },
 "nbformat": 4,
 "nbformat_minor": 5
}
